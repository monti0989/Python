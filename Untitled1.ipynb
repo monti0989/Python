{
  "nbformat": 4,
  "nbformat_minor": 0,
  "metadata": {
    "colab": {
      "name": "Untitled1.ipynb",
      "provenance": [],
      "authorship_tag": "ABX9TyNqqHoyOjDRkVUt4357VfcB",
      "include_colab_link": true
    },
    "kernelspec": {
      "name": "python3",
      "display_name": "Python 3"
    },
    "language_info": {
      "name": "python"
    }
  },
  "cells": [
    {
      "cell_type": "markdown",
      "metadata": {
        "id": "view-in-github",
        "colab_type": "text"
      },
      "source": [
        "<a href=\"https://colab.research.google.com/github/monti0989/Python/blob/main/Untitled1.ipynb\" target=\"_parent\"><img src=\"https://colab.research.google.com/assets/colab-badge.svg\" alt=\"Open In Colab\"/></a>"
      ]
    },
    {
      "cell_type": "code",
      "execution_count": 1,
      "metadata": {
        "colab": {
          "base_uri": "https://localhost:8080/"
        },
        "id": "HmkIkdwnXTUg",
        "outputId": "838439ef-ce57-408e-bb9d-0d26664a7912"
      },
      "outputs": [
        {
          "output_type": "stream",
          "name": "stdout",
          "text": [
            "Introduce tu nombre:ivan\n",
            "! Hola,  ivan ¡\n"
          ]
        }
      ],
      "source": [
        "# Escribir un programa que pregunte al usuario su nombre, y luego lo salude.\n",
        "nombre = input (\"Introduce tu nombre:\")\n",
        "print(f\"! Hola,  {nombre} ¡\")"
      ]
    }
  ]
}