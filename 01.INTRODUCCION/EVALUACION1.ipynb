{
  "nbformat": 4,
  "nbformat_minor": 0,
  "metadata": {
    "colab": {
      "name": "EVALUACION1.ipynb",
      "provenance": []
    },
    "kernelspec": {
      "name": "python3",
      "display_name": "Python 3"
    },
    "language_info": {
      "name": "python"
    }
  },
  "cells": [
    {
      "cell_type": "markdown",
      "source": [
        "# Práctica 1. \n",
        "6 puntos\n",
        "\n",
        "1 Práctica 1: Conociendo Python.\n",
        "\n",
        "Objetivo: Identificar el nivel de comprensión de los conceptos mediante preguntas abiertas.\n",
        "\n",
        "Responder las siguientes preguntas:\n",
        "\n"
      ],
      "metadata": {
        "id": "j1eqhlwTACMT"
      }
    },
    {
      "cell_type": "markdown",
      "source": [
        "\n",
        "1.1 ¿Qué es python? (2 puntos)\n",
        "\n",
        " Tu respuesta aquí\n",
        "\n","Es un lenguaje de programacion similar a perl, pero con una sintexis mas legible"
        "1.2 ¿Es multiplataforma en que sistemas operativos funciona ? (2 puntos)\n",
        "\n",
        " Tu respuesta aquí\n",
        " \n","UNIX, Solaris, Linux, DOS, Windows, OS/2, Mac OS"
        "1.3 Ejercicio 1 (2 puntos) Escribir un programa que pregunte al usuario su nombre, y luego lo salude.\n"
      ],
      "metadata": {
        "id": "8rolc7oNANvo"
      }
    },
    {
      "cell_type": "code",
      "source": [
        "#Tú código aquí"     /* # Escribir un programa que pregunte al usuario su nombre, y luego lo salude.
                              nombre = input ("Introduce tu nombre:")
                              print(f"! Hola,  {nombre} ¡")*/
    

      ],
      "metadata": {
        "id": "OpcH1h40AXRD"
      },
      "execution_count": null,
      "outputs": []
    }
  ]
}
